{
  "nbformat": 4,
  "nbformat_minor": 0,
  "metadata": {
    "colab": {
      "provenance": []
    },
    "kernelspec": {
      "name": "python3",
      "display_name": "Python 3"
    },
    "language_info": {
      "name": "python"
    }
  },
  "cells": [
    {
      "cell_type": "markdown",
      "source": [
        "# Student Performance Prediction\n",
        "this notebook predicts the performance of a student based on dataset"
      ],
      "metadata": {
        "id": "BqBg9FK5-GIW"
      }
    },
    {
      "cell_type": "markdown",
      "source": [
        "# Import Libraries and Setup"
      ],
      "metadata": {
        "id": "AxMQ0mYn-PY7"
      }
    },
    {
      "cell_type": "code",
      "execution_count": 1,
      "metadata": {
        "id": "oDSstWa09-FS"
      },
      "outputs": [],
      "source": [
        "import pandas as pd\n",
        "import numpy as np\n",
        "import matplotlib.pyplot as plt\n",
        "import seaborn as sns\n",
        "import warnings\n",
        "from sklearn.model_selection import train_test_split, cross_val_score, RandomizedSearchCV, StratifiedKFold\n",
        "from sklearn.preprocessing import StandardScaler, MinMaxScaler, RobustScaler, PowerTransformer, QuantileTransformer\n",
        "from sklearn.preprocessing import LabelEncoder, OneHotEncoder, PolynomialFeatures\n",
        "from sklearn.linear_model import LinearRegression, Ridge, Lasso, ElasticNet\n",
        "from sklearn.tree import DecisionTreeRegressor\n",
        "from sklearn.ensemble import RandomForestRegressor, GradientBoostingRegressor, AdaBoostRegressor, VotingRegressor\n",
        "from sklearn.svm import SVR\n",
        "from sklearn.neighbors import KNeighborsRegressor\n",
        "from sklearn.neural_network import MLPRegressor\n",
        "from sklearn.metrics import mean_squared_error, mean_absolute_error, r2_score\n",
        "from sklearn.inspection import permutation_importance\n",
        "from sklearn.model_selection import validation_curve, cross_val_predict\n",
        "from sklearn.metrics import r2_score, mean_squared_error, mean_absolute_error\n",
        "from sklearn.compose import ColumnTransformer\n",
        "from statsmodels.regression.linear_model import OLS\n",
        "from sklearn.pipeline import Pipeline\n",
        "from sklearn.base import clone\n",
        "from scipy import stats\n",
        "from sklearn.metrics import r2_score\n",
        "from scipy.stats import jarque_bera, normaltest\n",
        "from statsmodels.stats.diagnostic import het_breuschpagan\n",
        "from statsmodels.stats.stattools import durbin_watson\n",
        "from sklearn.model_selection import KFold\n",
        "from sklearn.ensemble import VotingRegressor\n",
        "from sklearn.linear_model import Ridge\n",
        "from sklearn.inspection import partial_dependence, PartialDependenceDisplay\n",
        "import itertools\n",
        "import requests\n",
        "import zipfile\n",
        "import os\n",
        "import io\n",
        "import base64\n",
        "from io import BytesIO\n",
        "warnings.filterwarnings('ignore')\n",
        "plt.style.use('seaborn-v0_8')\n",
        "np.random.seed(42)"
      ]
    },
    {
      "cell_type": "markdown",
      "source": [
        "# Data Loading and Initial Exploration"
      ],
      "metadata": {
        "id": "JSd2NUDl-aiS"
      }
    },
    {
      "cell_type": "code",
      "source": [
        "url = 'https://archive.ics.uci.edu/ml/machine-learning-databases/00320/student.zip'\n",
        "\n",
        "response = requests.get(url)\n",
        "z = zipfile.ZipFile(io.BytesIO(response.content))\n",
        "math_df = pd.read_csv(z.open('student-mat.csv'), sep=';')\n",
        "port_df = pd.read_csv(z.open('student-por.csv'), sep=';')\n",
        "\n",
        "math_df['subject'] = 'math'\n",
        "port_df['subject'] = 'portuguese'\n",
        "df = pd.concat([math_df, port_df], ignore_index=True)\n",
        "\n",
        "print(f\"Dataset shape: {df.shape}\")\n",
        "print(f\"Missing values: {df.isnull().sum().sum()}\")\n",
        "print(f\"Target variable (G3) statistics:\")\n",
        "print(df['G3'].describe())"
      ],
      "metadata": {
        "colab": {
          "base_uri": "https://localhost:8080/"
        },
        "id": "ns4ofO_W-bIw",
        "outputId": "16257fe5-58e3-407c-d8d0-80d2333d1cad"
      },
      "execution_count": 2,
      "outputs": [
        {
          "output_type": "stream",
          "name": "stdout",
          "text": [
            "Dataset shape: (1044, 34)\n",
            "Missing values: 0\n",
            "Target variable (G3) statistics:\n",
            "count    1044.000000\n",
            "mean       11.341954\n",
            "std         3.864796\n",
            "min         0.000000\n",
            "25%        10.000000\n",
            "50%        11.000000\n",
            "75%        14.000000\n",
            "max        20.000000\n",
            "Name: G3, dtype: float64\n"
          ]
        }
      ]
    }
  ]
}